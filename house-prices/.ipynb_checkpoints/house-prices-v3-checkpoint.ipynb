{
 "cells": [
  {
   "cell_type": "code",
   "execution_count": 37,
   "metadata": {
    "collapsed": true
   },
   "outputs": [],
   "source": [
    "# data analysis and wrangling\n",
    "import pandas as pd\n",
    "import numpy as np\n",
    "import random as rnd\n",
    "from scipy.stats import skew\n",
    "\n",
    "# visualization\n",
    "import seaborn as sns\n",
    "import matplotlib.pyplot as plt\n",
    "%matplotlib inline\n",
    "\n",
    "# machine learning\n",
    "from sklearn.linear_model import LogisticRegression\n",
    "from sklearn.svm import SVC, LinearSVC\n",
    "from sklearn.ensemble import RandomForestClassifier\n",
    "from sklearn.ensemble import RandomForestRegressor\n",
    "from sklearn.neighbors import KNeighborsClassifier\n",
    "from sklearn.naive_bayes import GaussianNB\n",
    "from sklearn.linear_model import Perceptron\n",
    "from sklearn.linear_model import SGDClassifier\n",
    "from sklearn.tree import DecisionTreeClassifier\n",
    "\n",
    "# metrics & utils\n",
    "import sklearn.metrics as metrics\n",
    "from sklearn.model_selection import train_test_split\n",
    "from sklearn.feature_selection import f_regression"
   ]
  },
  {
   "cell_type": "code",
   "execution_count": 30,
   "metadata": {
    "collapsed": true
   },
   "outputs": [],
   "source": [
    "df_train = pd.read_csv('train.csv')\n",
    "df_submit = pd.read_csv('test.csv')\n",
    "all_data = pd.concat((df_train.loc[:,'MSSubClass':'SaleCondition'],\n",
    "                     df_submit.loc[:,'MSSubClass':'SaleCondition']))"
   ]
  },
  {
   "cell_type": "code",
   "execution_count": 31,
   "metadata": {},
   "outputs": [],
   "source": [
    "#log transform the target:\n",
    "df_train[\"SalePrice\"] = np.log1p(df_train[\"SalePrice\"])\n",
    "#log transform skewed numeric features:\n",
    "numeric_feats = all_data.dtypes[all_data.dtypes != \"object\"].index\n"
   ]
  },
  {
   "cell_type": "code",
   "execution_count": 44,
   "metadata": {},
   "outputs": [],
   "source": [
    "skewed_feats = df_train[numeric_feats].apply(lambda x: skew(x.dropna())) #compute skewness\n",
    "skewed_feats = skewed_feats[skewed_feats > 0.75]\n",
    "skewed_feats = skewed_feats.index\n",
    "all_data[skewed_feats] = np.log1p(all_data[skewed_feats])"
   ]
  },
  {
   "cell_type": "code",
   "execution_count": 46,
   "metadata": {},
   "outputs": [],
   "source": [
    "# Convert all categorical data to binary representation\n",
    "all_data = pd.get_dummies(all_data)"
   ]
  },
  {
   "cell_type": "code",
   "execution_count": 49,
   "metadata": {},
   "outputs": [],
   "source": [
    "# Fill all the NaN values with the mean value of that col\n",
    "all_data = all_data.fillna(all_data.mean())"
   ]
  },
  {
   "cell_type": "code",
   "execution_count": null,
   "metadata": {
    "collapsed": true
   },
   "outputs": [],
   "source": []
  },
  {
   "cell_type": "code",
   "execution_count": 3,
   "metadata": {
    "collapsed": true
   },
   "outputs": [],
   "source": [
    "# set mean price for each neighborhood\n",
    "mean_price = df_train[['Neighborhood', 'SalePrice']].groupby(['Neighborhood'], \n",
    "as_index=False).mean().sort_values(by='SalePrice', ascending=False)\n",
    "\n",
    "df_train = df_train.merge(mean_price, left_on='Neighborhood', right_on='Neighborhood', how='left')\n",
    "df_train = df_train.rename(index=str, columns={'SalePrice_x':'SalePrice','SalePrice_y':'NeighMean' })\n",
    "df_submit = df_submit.merge(mean_price, left_on='Neighborhood', right_on='Neighborhood', how='left')\n",
    "df_submit = df_submit.rename(index=str, columns={'SalePrice':'NeighMean'})"
   ]
  },
  {
   "cell_type": "code",
   "execution_count": 4,
   "metadata": {},
   "outputs": [],
   "source": [
    "df_train.NeighMean = df_train.NeighMean.transform(lambda x: x / 1000)\n",
    "df_submit.NeighMean = df_submit.NeighMean.transform(lambda x: x / 1000)"
   ]
  },
  {
   "cell_type": "code",
   "execution_count": 5,
   "metadata": {
    "collapsed": true
   },
   "outputs": [],
   "source": [
    "# Creating a new is PoolPresent feature.\n",
    "df_train.loc[ df_train['PoolArea'] <= 0, 'PoolPresent'] = 0\n",
    "df_train.loc[ df_train['PoolArea'] > 0, 'PoolPresent'] = 1\n",
    "df_submit.loc[ df_train['PoolArea'] <= 0, 'PoolPresent'] = 0\n",
    "df_submit.loc[ df_train['PoolArea'] > 0, 'PoolPresent'] = 1"
   ]
  },
  {
   "cell_type": "code",
   "execution_count": 6,
   "metadata": {
    "collapsed": true
   },
   "outputs": [],
   "source": [
    "# Creating a new is GarageBand feature, using qcut for 6 clusters.\n",
    "df_train.loc[ df_train['GarageArea'] <= 281, 'GarageBand'] = 0\n",
    "df_train.loc[(df_train['GarageArea'] > 281) & (df_train['GarageArea'] <= 400), 'GarageBand'] = 1\n",
    "df_train.loc[(df_train['GarageArea'] > 400) & (df_train['GarageArea'] <= 480), 'GarageBand'] = 2\n",
    "df_train.loc[(df_train['GarageArea'] > 480) & (df_train['GarageArea'] <= 540), 'GarageBand'] = 3\n",
    "df_train.loc[(df_train['GarageArea'] > 540) & (df_train['GarageArea'] <= 659.3), 'GarageBand'] = 4\n",
    "df_train.loc[ df_train['GarageArea'] > 659.3, 'GarageBand'] = 5\n",
    "df_submit.loc[ df_submit['GarageArea'] <= 281, 'GarageBand'] = 0\n",
    "df_submit.loc[(df_submit['GarageArea'] > 281) & (df_submit['GarageArea'] <= 400), 'GarageBand'] = 1\n",
    "df_submit.loc[(df_submit['GarageArea'] > 400) & (df_submit['GarageArea'] <= 480), 'GarageBand'] = 2\n",
    "df_submit.loc[(df_submit['GarageArea'] > 480) & (df_submit['GarageArea'] <= 540), 'GarageBand'] = 3\n",
    "df_submit.loc[(df_submit['GarageArea'] > 540) & (df_submit['GarageArea'] <= 659.3), 'GarageBand'] = 4\n",
    "df_submit.loc[ df_submit['GarageArea'] > 659.3, 'GarageBand'] = 5"
   ]
  },
  {
   "cell_type": "code",
   "execution_count": 7,
   "metadata": {
    "collapsed": true
   },
   "outputs": [],
   "source": [
    "# Convert categorical SaleType feature to binary, add to df\n",
    "train_SaleType_dummies = pd.get_dummies(df_train.SaleType)\n",
    "submit_SaleType_dummies = pd.get_dummies(df_submit.SaleType)\n",
    "df_train = df_train.join(train_SaleType_dummies)\n",
    "df_submit = df_submit.join(submit_SaleType_dummies)"
   ]
  },
  {
   "cell_type": "code",
   "execution_count": 8,
   "metadata": {
    "collapsed": true
   },
   "outputs": [],
   "source": [
    "# Convert categorical SaleCondition feature to binary, add to df\n",
    "train_SaleCondition_dummies = pd.get_dummies(df_train.SaleCondition)\n",
    "submit_SaleCondition_dummies = pd.get_dummies(df_submit.SaleCondition)\n",
    "df_train = df_train.join(train_SaleCondition_dummies)\n",
    "df_submit = df_submit.join(submit_SaleCondition_dummies)"
   ]
  },
  {
   "cell_type": "code",
   "execution_count": 9,
   "metadata": {
    "collapsed": true
   },
   "outputs": [],
   "source": [
    "# Convert categorical ExterQual feature to binary, add to df\n",
    "train_ExterQual_dummies = pd.get_dummies(df_train.ExterQual)\n",
    "submit_ExterQual_dummies = pd.get_dummies(df_submit.ExterQual)\n",
    "df_train = df_train.join(train_ExterQual_dummies)\n",
    "df_submit = df_submit.join(submit_ExterQual_dummies)"
   ]
  },
  {
   "cell_type": "code",
   "execution_count": 10,
   "metadata": {
    "collapsed": true
   },
   "outputs": [],
   "source": [
    "# # Convert categorical ExterCond feature to binary, add to df --- NEED to sort out col name clashes.????\n",
    "# train_ExterCond_dummies = pd.get_dummies(df_train.ExterCond)\n",
    "# submit_ExterCond_dummies = pd.get_dummies(df_submit.ExterCond)\n",
    "# df_train = df_train.join(train_ExterCond_dummies)\n",
    "# df_submit = df_submit.join(submit_ExterCond_dummies)"
   ]
  },
  {
   "cell_type": "code",
   "execution_count": 11,
   "metadata": {
    "collapsed": true
   },
   "outputs": [],
   "source": [
    "# Convert categorical ExterQual feature to binary, add to df\n",
    "train_MSZoning_dummies = pd.get_dummies(df_train.MSZoning)\n",
    "submit_MSZoning_dummies = pd.get_dummies(df_submit.MSZoning)\n",
    "df_train = df_train.join(train_MSZoning_dummies)\n",
    "df_submit = df_submit.join(submit_MSZoning_dummies)"
   ]
  },
  {
   "cell_type": "code",
   "execution_count": 12,
   "metadata": {
    "collapsed": true
   },
   "outputs": [],
   "source": [
    "train_columns = ['LotArea', 'GarageArea', 'TotRmsAbvGrd', 'GarageBand', '1stFlrSF',\n",
    "                'OverallQual','OverallCond', 'LotFrontage','NeighMean', 'PoolPresent',\n",
    "                'COD', 'CWD','Con', 'ConLD', 'ConLI', 'ConLw', 'New', 'Oth', 'WD',\n",
    "                'Normal', 'Abnorml', 'AdjLand', 'Alloca', 'Family', 'Partial',\n",
    "                'Ex', 'Gd', 'TA', 'Fa',\n",
    "                'C (all)', 'FV','RH', 'RL','RM',\n",
    "                'SalePrice']\n",
    "submit_columns = ['LotArea', 'GarageArea', 'TotRmsAbvGrd', 'GarageBand', '1stFlrSF',\n",
    "                'OverallQual','OverallCond', 'LotFrontage','NeighMean', 'PoolPresent',\n",
    "                'COD', 'CWD','Con', 'ConLD', 'ConLI', 'ConLw', 'New', 'Oth', 'WD',\n",
    "                'Normal', 'Abnorml', 'AdjLand', 'Alloca', 'Family', 'Partial',\n",
    "                'Ex', 'Gd', 'TA', 'Fa',\n",
    "                'C (all)', 'FV','RH', 'RL','RM']"
   ]
  },
  {
   "cell_type": "code",
   "execution_count": 13,
   "metadata": {
    "collapsed": true
   },
   "outputs": [],
   "source": [
    "df_train_simple = df_train.loc[:,train_columns]\n",
    "df_submit_simple = df_submit.loc[:,submit_columns]"
   ]
  },
  {
   "cell_type": "code",
   "execution_count": 14,
   "metadata": {
    "collapsed": true
   },
   "outputs": [],
   "source": [
    "# this method needs to be improved - use mean across a groupby or ration of front to area\n",
    "LotFrontage_mean = df_train['LotFrontage'].mean()\n",
    "df_submit_simple['LotFrontage'].fillna(value=LotFrontage_mean, inplace=True)\n",
    "df_train_simple['LotFrontage'].fillna(value=LotFrontage_mean, inplace=True)"
   ]
  },
  {
   "cell_type": "code",
   "execution_count": 15,
   "metadata": {},
   "outputs": [
    {
     "data": {
      "text/plain": [
       "((1314, 34), (1314,), (146, 34), (146, 34))"
      ]
     },
     "execution_count": 15,
     "metadata": {},
     "output_type": "execute_result"
    }
   ],
   "source": [
    "train, test = train_test_split(df_train_simple, test_size=0.1)\n",
    "X_train = train.drop('SalePrice', axis=1)\n",
    "Y_train = train['SalePrice']\n",
    "X_test  = test.drop('SalePrice', axis=1)\n",
    "Y_test = test['SalePrice']\n",
    "X_train.shape, Y_train.shape, X_test.shape, X_test.shape"
   ]
  },
  {
   "cell_type": "code",
   "execution_count": 16,
   "metadata": {},
   "outputs": [
    {
     "name": "stdout",
     "output_type": "stream",
     "text": [
      "<class 'pandas.core.frame.DataFrame'>\n",
      "Index: 1460 entries, 0 to 1459\n",
      "Data columns (total 35 columns):\n",
      "LotArea         1460 non-null int64\n",
      "GarageArea      1460 non-null int64\n",
      "TotRmsAbvGrd    1460 non-null int64\n",
      "GarageBand      1460 non-null float64\n",
      "1stFlrSF        1460 non-null int64\n",
      "OverallQual     1460 non-null int64\n",
      "OverallCond     1460 non-null int64\n",
      "LotFrontage     1460 non-null float64\n",
      "NeighMean       1460 non-null float64\n",
      "PoolPresent     1460 non-null float64\n",
      "COD             1460 non-null uint8\n",
      "CWD             1460 non-null uint8\n",
      "Con             1460 non-null uint8\n",
      "ConLD           1460 non-null uint8\n",
      "ConLI           1460 non-null uint8\n",
      "ConLw           1460 non-null uint8\n",
      "New             1460 non-null uint8\n",
      "Oth             1460 non-null uint8\n",
      "WD              1460 non-null uint8\n",
      "Normal          1460 non-null uint8\n",
      "Abnorml         1460 non-null uint8\n",
      "AdjLand         1460 non-null uint8\n",
      "Alloca          1460 non-null uint8\n",
      "Family          1460 non-null uint8\n",
      "Partial         1460 non-null uint8\n",
      "Ex              1460 non-null uint8\n",
      "Gd              1460 non-null uint8\n",
      "TA              1460 non-null uint8\n",
      "Fa              1460 non-null uint8\n",
      "C (all)         1460 non-null uint8\n",
      "FV              1460 non-null uint8\n",
      "RH              1460 non-null uint8\n",
      "RL              1460 non-null uint8\n",
      "RM              1460 non-null uint8\n",
      "SalePrice       1460 non-null int64\n",
      "dtypes: float64(4), int64(7), uint8(24)\n",
      "memory usage: 211.1+ KB\n"
     ]
    }
   ],
   "source": [
    "df_train_simple.info()"
   ]
  },
  {
   "cell_type": "code",
   "execution_count": 17,
   "metadata": {
    "collapsed": true
   },
   "outputs": [
    {
     "name": "stdout",
     "output_type": "stream",
     "text": [
      "<class 'pandas.core.frame.DataFrame'>\n",
      "Index: 1459 entries, 0 to 1458\n",
      "Data columns (total 34 columns):\n",
      "LotArea         1459 non-null int64\n",
      "GarageArea      1459 non-null float64\n",
      "TotRmsAbvGrd    1459 non-null int64\n",
      "GarageBand      1459 non-null float64\n",
      "1stFlrSF        1459 non-null int64\n",
      "OverallQual     1459 non-null int64\n",
      "OverallCond     1459 non-null int64\n",
      "LotFrontage     1459 non-null float64\n",
      "NeighMean       1459 non-null float64\n",
      "PoolPresent     1459 non-null float64\n",
      "COD             1459 non-null uint8\n",
      "CWD             1459 non-null uint8\n",
      "Con             1459 non-null uint8\n",
      "ConLD           1459 non-null uint8\n",
      "ConLI           1459 non-null uint8\n",
      "ConLw           1459 non-null uint8\n",
      "New             1459 non-null uint8\n",
      "Oth             1459 non-null uint8\n",
      "WD              1459 non-null uint8\n",
      "Normal          1459 non-null uint8\n",
      "Abnorml         1459 non-null uint8\n",
      "AdjLand         1459 non-null uint8\n",
      "Alloca          1459 non-null uint8\n",
      "Family          1459 non-null uint8\n",
      "Partial         1459 non-null uint8\n",
      "Ex              1459 non-null uint8\n",
      "Gd              1459 non-null uint8\n",
      "TA              1459 non-null uint8\n",
      "Fa              1459 non-null uint8\n",
      "C (all)         1459 non-null uint8\n",
      "FV              1459 non-null uint8\n",
      "RH              1459 non-null uint8\n",
      "RL              1459 non-null uint8\n",
      "RM              1459 non-null uint8\n",
      "dtypes: float64(5), int64(5), uint8(24)\n",
      "memory usage: 199.6+ KB\n"
     ]
    }
   ],
   "source": [
    "df_submit_simple['GarageArea'].fillna(value=400, inplace=True)\n",
    "df_submit_simple['GarageBand'].fillna(value=3, inplace=True)\n",
    "df_submit_simple.info()"
   ]
  },
  {
   "cell_type": "code",
   "execution_count": 18,
   "metadata": {
    "collapsed": true
   },
   "outputs": [],
   "source": [
    "logreg = LogisticRegression()\n",
    "logreg.fit(X_train, Y_train)\n",
    "Y_test_pred = logreg.predict(X_test)"
   ]
  },
  {
   "cell_type": "code",
   "execution_count": 19,
   "metadata": {
    "collapsed": true
   },
   "outputs": [],
   "source": [
    "Y_pred_test = logreg.predict(X_test)\n",
    "Y_pred_submit = logreg.predict(df_submit_simple)"
   ]
  },
  {
   "cell_type": "code",
   "execution_count": 20,
   "metadata": {},
   "outputs": [
    {
     "name": "stdout",
     "output_type": "stream",
     "text": [
      "SQRT Mean Squared Error : 56747.0\n",
      "Mean Absolute Error : 37856.0958904\n",
      "R2 Score : 0.342791905862\n",
      "Explained Variance Score : 0.345761891585\n",
      "Accuracy : 0.287671232877\n"
     ]
    }
   ],
   "source": [
    "print('SQRT Mean Squared Error :',\n",
    "      np.round(np.sqrt(metrics.mean_squared_error(Y_test, Y_test_pred)))) # 57370.0\n",
    "print('Mean Absolute Error :',\n",
    "      metrics.mean_absolute_error(Y_test, Y_test_pred)) # 57370.0\n",
    "print('R2 Score :',\n",
    "      metrics.r2_score(Y_test, Y_test_pred)) # 57370.0\n",
    "print('Explained Variance Score :',\n",
    "      metrics.explained_variance_score(Y_test, Y_pred_test))\n",
    "print('Accuracy :',\n",
    "      logreg.score(X_train, Y_train)) # 0.0707762557078\n"
   ]
  },
  {
   "cell_type": "code",
   "execution_count": 21,
   "metadata": {
    "collapsed": true
   },
   "outputs": [],
   "source": [
    "# LAST RESULTS STORED HERE!\n",
    "# SQRT Mean Squared Error : 54941.0\n",
    "# Mean Absolute Error : 38560.239726\n",
    "# R2 Score : 0.485073813664\n",
    "# Explained Variance Score : 0.501997672907\n",
    "# Accuracy : 0.133181126332\n",
    "    \n",
    "# (array([   98.82456079,   815.43915806,   511.06510154,  2156.13969875,\n",
    "#             7.90427961,   171.68709881,  1490.8653491 ]),\n",
    "#  array([  1.68349643e-022,   6.93264986e-140,   7.88090840e-096,\n",
    "#           3.21467312e-279,   5.00518683e-003,   5.92565385e-037,\n",
    "#           1.64896651e-218]))"
   ]
  },
  {
   "cell_type": "code",
   "execution_count": 22,
   "metadata": {},
   "outputs": [
    {
     "data": {
      "text/plain": [
       "(array([  1.06141400e+02,   8.37768515e+02,   5.24699774e+02,\n",
       "          7.55444093e+02,   7.59034639e+02,   2.20613433e+03,\n",
       "          1.08586854e+01,   1.82326309e+02,   1.60123872e+03,\n",
       "          1.25158889e+01,   8.86862775e+00,   3.20596995e-01,\n",
       "          2.41410723e+00,   1.55764114e+00,   2.80661219e-01,\n",
       "          1.86087156e+00,   1.96227843e+02,   1.76099209e+00,\n",
       "          8.37361882e+01,   3.58358942e+01,   1.53770380e+01,\n",
       "          3.71005344e+00,   5.27049206e-01,   2.64324453e+00,\n",
       "          1.88763886e+02,   3.45590231e+02,   3.15645158e+02,\n",
       "          6.75380445e+02,   1.61563288e+01,   1.64045454e+01,\n",
       "          9.18567892e+00,   6.24008126e+00,   9.52616092e+01,\n",
       "          1.32304124e+02]),\n",
       " array([  5.47513146e-024,   7.28869943e-143,   5.88418233e-098,\n",
       "          1.00224476e-131,   3.20604517e-132,   2.67722189e-283,\n",
       "          1.00959922e-003,   5.31774063e-039,   1.60868669e-229,\n",
       "          4.17583508e-004,   2.95439325e-003,   5.71345927e-001,\n",
       "          1.20487680e-001,   2.12233623e-001,   5.96357792e-001,\n",
       "          1.72758201e-001,   1.18531840e-041,   1.84731712e-001,\n",
       "          2.10091330e-019,   2.76634111e-009,   9.26042240e-005,\n",
       "          5.43015019e-002,   4.67979566e-001,   1.04231128e-001,\n",
       "          3.12248472e-040,   1.17400253e-068,   1.90160443e-063,\n",
       "          1.85724283e-120,   6.16411767e-005,   5.41601827e-005,\n",
       "          2.48692688e-003,   1.26107129e-002,   8.99250875e-022,\n",
       "          3.07068700e-029]))"
      ]
     },
     "execution_count": 22,
     "metadata": {},
     "output_type": "execute_result"
    }
   ],
   "source": [
    "f = f_regression(X_train, Y_train)\n",
    "f"
   ]
  },
  {
   "cell_type": "code",
   "execution_count": 23,
   "metadata": {
    "collapsed": true
   },
   "outputs": [],
   "source": [
    "# titles = df_train_simple.columns.values\n",
    "# np.concatenate(titles, f)"
   ]
  },
  {
   "cell_type": "code",
   "execution_count": 24,
   "metadata": {},
   "outputs": [
    {
     "data": {
      "text/plain": [
       "0.80698888421184556"
      ]
     },
     "execution_count": 24,
     "metadata": {},
     "output_type": "execute_result"
    }
   ],
   "source": [
    "rf = RandomForestRegressor()\n",
    "rf.fit(X_train, Y_train)\n",
    "rf.score(X_test, Y_test)"
   ]
  },
  {
   "cell_type": "code",
   "execution_count": 25,
   "metadata": {},
   "outputs": [
    {
     "data": {
      "text/plain": [
       "array([  4.95209277e-02,   4.63291824e-02,   4.87859965e-02,\n",
       "         5.10197104e-03,   1.07508765e-01,   5.47845420e-01,\n",
       "         1.42172266e-02,   2.28211550e-02,   1.34371825e-01,\n",
       "         6.22459016e-04,   6.63335651e-04,   1.03363801e-05,\n",
       "         6.54783442e-07,   1.20291198e-04,   1.79395556e-05,\n",
       "         9.61177593e-06,   4.32698115e-04,   6.13732366e-05,\n",
       "         2.33718798e-03,   1.00236661e-03,   1.05753586e-03,\n",
       "         4.03976681e-07,   7.19810858e-04,   1.12248873e-03,\n",
       "         2.11945429e-03,   5.39150837e-03,   2.48141498e-03,\n",
       "         2.01815282e-03,   1.34710942e-04,   1.58117976e-04,\n",
       "         2.33747483e-04,   1.07461384e-04,   8.90934321e-04,\n",
       "         1.78353471e-03])"
      ]
     },
     "execution_count": 25,
     "metadata": {},
     "output_type": "execute_result"
    }
   ],
   "source": [
    "# dir(rf)\n",
    "rf.feature_importances_"
   ]
  },
  {
   "cell_type": "code",
   "execution_count": 26,
   "metadata": {
    "collapsed": true
   },
   "outputs": [],
   "source": [
    "submission = pd.DataFrame({\n",
    "        'Id': df_submit['Id'],\n",
    "        'SalePrice': Y_pred_submit\n",
    "    })\n",
    "submission.to_csv('submission_logReg.csv', index=False)"
   ]
  },
  {
   "cell_type": "code",
   "execution_count": 27,
   "metadata": {
    "collapsed": true
   },
   "outputs": [],
   "source": [
    "Y_pred_submit_rf = rf.predict(df_submit_simple)"
   ]
  },
  {
   "cell_type": "code",
   "execution_count": 28,
   "metadata": {
    "collapsed": true
   },
   "outputs": [],
   "source": [
    "submission = pd.DataFrame({\n",
    "        'Id': df_submit['Id'],\n",
    "        'SalePrice': Y_pred_submit_rf\n",
    "    })\n",
    "submission.to_csv('submission_randomForest.csv', index=False)"
   ]
  },
  {
   "cell_type": "code",
   "execution_count": null,
   "metadata": {
    "collapsed": true
   },
   "outputs": [],
   "source": []
  }
 ],
 "metadata": {
  "kernelspec": {
   "display_name": "Python 3",
   "language": "python",
   "name": "python3"
  },
  "language_info": {
   "codemirror_mode": {
    "name": "ipython",
    "version": 3
   },
   "file_extension": ".py",
   "mimetype": "text/x-python",
   "name": "python",
   "nbconvert_exporter": "python",
   "pygments_lexer": "ipython3",
   "version": "3.6.2"
  }
 },
 "nbformat": 4,
 "nbformat_minor": 2
}
